{
  "nbformat": 4,
  "nbformat_minor": 0,
  "metadata": {
    "colab": {
      "name": "Learning to Rank",
      "provenance": [],
      "collapsed_sections": [],
      "include_colab_link": true
    },
    "kernelspec": {
      "name": "python3",
      "display_name": "Python 3"
    }
  },
  "cells": [
    {
      "cell_type": "markdown",
      "metadata": {
        "id": "view-in-github",
        "colab_type": "text"
      },
      "source": [
        "<a href=\"https://colab.research.google.com/github/AnujShelat/ReviewDataProject/blob/master/Learning_to_Rank.ipynb\" target=\"_parent\"><img src=\"https://colab.research.google.com/assets/colab-badge.svg\" alt=\"Open In Colab\"/></a>"
      ]
    },
    {
      "cell_type": "markdown",
      "metadata": {
        "id": "vhv_wm--lt5_"
      },
      "source": [
        "1) Import Dependencies"
      ]
    },
    {
      "cell_type": "code",
      "metadata": {
        "id": "vQbF5lfeQ7B-"
      },
      "source": [
        "# Import dependencies here\n",
        "import numpy as np\n",
        "import pandas as pd\n",
        "import matplotlib\n",
        "import xgboost as xgb\n",
        "from xgboost import DMatrix\n",
        "from sklearn.datasets import load_svmlight_file"
      ],
      "execution_count": null,
      "outputs": []
    },
    {
      "cell_type": "markdown",
      "metadata": {
        "id": "1am1Iv_LWR2W"
      },
      "source": [
        "### 2) Download Dataset"
      ]
    },
    {
      "cell_type": "code",
      "metadata": {
        "id": "p_4tmowxOHAF"
      },
      "source": [
        "# Download the dataset located at https://storage.googleapis.com/personalization-takehome/MSLR-WEB10K.zip\n",
        "# You can read about the features included in the dataset here: https://www.microsoft.com/en-us/research/project/mslr/"
      ],
      "execution_count": null,
      "outputs": []
    },
    {
      "cell_type": "markdown",
      "metadata": {
        "id": "VPbTIqLCqmKq"
      },
      "source": [
        "The MSLR-WEB10K dataset should exist in the working directory so that it can be referenced throughout this notebook."
      ]
    },
    {
      "cell_type": "code",
      "metadata": {
        "id": "fYc0Y2RDkjZk",
        "colab": {
          "base_uri": "https://localhost:8080/"
        },
        "outputId": "8aa69485-f758-4b95-8ca2-51838a5bc055"
      },
      "source": [
        "# Mount Google Drive to access data stored there\n",
        "from google.colab import drive\n",
        "drive.mount('/content/drive/')\n",
        "\n",
        "# Set your working directory\n",
        "%cd /content/drive/MyDrive/MSLR-WEB10K/Fold1/\n",
        "!cp \"/content/drive/MyDrive/MSLR-WEB10K/Fold1/trans_data.py\"\n",
        "\n",
        "# Import preprocessing Python file\n",
        "import trans_data"
      ],
      "execution_count": null,
      "outputs": [
        {
          "output_type": "stream",
          "text": [
            "Drive already mounted at /content/drive/; to attempt to forcibly remount, call drive.mount(\"/content/drive/\", force_remount=True).\n",
            "/content/drive/MyDrive/MSLR-WEB10K/Fold1\n",
            "cp: missing destination file operand after '/content/drive/MyDrive/MSLR-WEB10K/Fold1/trans_data.py'\n",
            "Try 'cp --help' for more information.\n"
          ],
          "name": "stdout"
        }
      ]
    },
    {
      "cell_type": "markdown",
      "metadata": {
        "id": "aQdKuIDNWVb8"
      },
      "source": [
        "### 3) Preprocess and evaluate the dataset"
      ]
    },
    {
      "cell_type": "code",
      "metadata": {
        "id": "WHEqbC9sOrvb"
      },
      "source": [
        "# Preprocess and evaluate the dataset "
      ],
      "execution_count": null,
      "outputs": []
    },
    {
      "cell_type": "code",
      "metadata": {
        "id": "PgledFiACSGo",
        "colab": {
          "base_uri": "https://localhost:8080/"
        },
        "outputId": "c6f6dec3-5d9f-4fc3-ccf9-f5b49ae13391"
      },
      "source": [
        "# Run the preprocess function for each dataset and add the output files to the working directory.\n",
        "%%shell\n",
        "python trans_data.py train.txt mslr.train train.group\n",
        "python trans_data.py vali.txt mslr.vali vali.group\n",
        "python trans_data.py test.txt mslr.test test.group\n"
      ],
      "execution_count": null,
      "outputs": [
        {
          "output_type": "execute_result",
          "data": {
            "text/plain": [
              ""
            ]
          },
          "metadata": {
            "tags": []
          },
          "execution_count": 10
        }
      ]
    },
    {
      "cell_type": "markdown",
      "metadata": {
        "id": "OICi0aAuWclQ"
      },
      "source": [
        "4) Build ranking model"
      ]
    },
    {
      "cell_type": "code",
      "metadata": {
        "id": "frHrBKmTSUsq"
      },
      "source": [
        "# Build ranking model\n",
        "# Load datasets into svmlight format\n",
        "x_train, y_train = load_svmlight_file('mslr.train')\n",
        "x_valid, y_valid = load_svmlight_file('mslr.vali')\n",
        "x_test, y_test = load_svmlight_file('mslr.test')\n",
        "\n",
        "# Open the group data in read mode for each dataset\n",
        "group_train = []\n",
        "with open('train.group', \"r\") as f:\n",
        "    data = f.readlines()\n",
        "    for line in data:\n",
        "        group_train.append(int(line.split(\"\\n\")[0]))\n",
        "\n",
        "group_valid = []\n",
        "with open('vali.group', \"r\") as f:\n",
        "    data = f.readlines()\n",
        "    for line in data:\n",
        "        group_valid.append(int(line.split(\"\\n\")[0]))\n",
        "\n",
        "group_test = []\n",
        "with open('test.group', \"r\") as f:\n",
        "    data = f.readlines()\n",
        "    for line in data:\n",
        "        group_test.append(int(line.split(\"\\n\")[0]))\n",
        "\n",
        "# Construct DMatrix, the internal data structure used by XGBoost\n",
        "train_dmatrix = DMatrix(x_train, y_train)\n",
        "valid_dmatrix = DMatrix(x_valid, y_valid)\n",
        "test_dmatrix = DMatrix(x_test)\n",
        "\n",
        "# Set each group size for DMatrix\n",
        "train_dmatrix.set_group(group_train)\n",
        "valid_dmatrix.set_group(group_valid)\n",
        "\n",
        "# Set parameters for ranking\n",
        "params = {\n",
        "    'objective': 'rank:pairwise',\n",
        "    'eval_metric': 'ndcg',\n",
        "    'eta': 0.1,\n",
        "    'gamma': 0,\n",
        "    'min_child_weight': 0.1,\n",
        "    'max_depth': 6\n",
        "}\n",
        "\n",
        "# Train and validate the ranking model\n",
        "xgb_model = xgb.train(params, train_dmatrix, num_boost_round=4,\n",
        "                      evals=[(valid_dmatrix, 'validation')])\n",
        "\n",
        "# Apply the model to the testing data\n",
        "pred = xgb_model.predict(test_dmatrix)\n"
      ],
      "execution_count": null,
      "outputs": []
    },
    {
      "cell_type": "markdown",
      "metadata": {
        "id": "BBtVqWRSWx_g"
      },
      "source": [
        "5) Evaluate model performance"
      ]
    },
    {
      "cell_type": "code",
      "metadata": {
        "id": "FpaP8jesTQMj"
      },
      "source": [
        "# Evaluate model performance\n",
        "# The model performance was evaluated above using NDCG and was set within the parameters of the model"
      ],
      "execution_count": null,
      "outputs": []
    },
    {
      "cell_type": "code",
      "metadata": {
        "colab": {
          "base_uri": "https://localhost:8080/",
          "height": 312
        },
        "id": "SSfYOCuSpYTJ",
        "outputId": "96606dec-118b-40d3-ac95-ccf97f0a117c"
      },
      "source": [
        "# Plotting the ten most significant features for the model\n",
        "xgb.plot_importance(xgb_model, height=0.5, max_num_features=10)"
      ],
      "execution_count": null,
      "outputs": [
        {
          "output_type": "execute_result",
          "data": {
            "text/plain": [
              "<matplotlib.axes._subplots.AxesSubplot at 0x7f377487b470>"
            ]
          },
          "metadata": {
            "tags": []
          },
          "execution_count": 12
        },
        {
          "output_type": "display_data",
          "data": {
            "image/png": "[encoded data removed]",
            "text/plain": [
              "<Figure size 432x288 with 1 Axes>"
            ]
          },
          "metadata": {
            "tags": [],
            "needs_background": "light"
          }
        }
      ]
    },
    {
      "cell_type": "markdown",
      "metadata": {
        "id": "ffEIqFI3VB9d"
      },
      "source": [
        "## References\n",
        "https://xgboost.readthedocs.io/en/latest/index.html\n",
        "\n",
        "https://github.com/dmlc/xgboost\n"
      ]
    }
  ]
}